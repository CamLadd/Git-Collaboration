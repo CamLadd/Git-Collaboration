{
 "cells": [
  {
   "cell_type": "markdown",
   "metadata": {
    "toc": true
   },
   "source": [
    "<h1>Table of Contents<span class=\"tocSkip\"></span></h1>\n",
    "<div class=\"toc\"><ul class=\"toc-item\"><li><span><a href=\"#Local-Git\" data-toc-modified-id=\"Local-Git-1\"><span class=\"toc-item-num\">1&nbsp;&nbsp;</span>Local Git</a></span></li><li><span><a href=\"#GitHub-Collab\" data-toc-modified-id=\"GitHub-Collab-2\"><span class=\"toc-item-num\">2&nbsp;&nbsp;</span>GitHub Collab</a></span><ul class=\"toc-item\"><li><span><a href=\"#Intro---PR-on-Instructor's-Repo\" data-toc-modified-id=\"Intro---PR-on-Instructor's-Repo-2.1\"><span class=\"toc-item-num\">2.1&nbsp;&nbsp;</span>Intro - PR on Instructor's Repo</a></span></li><li><span><a href=\"#Group-PR\" data-toc-modified-id=\"Group-PR-2.2\"><span class=\"toc-item-num\">2.2&nbsp;&nbsp;</span>Group PR</a></span><ul class=\"toc-item\"><li><span><a href=\"#One-person-shares-their-screen\" data-toc-modified-id=\"One-person-shares-their-screen-2.2.1\"><span class=\"toc-item-num\">2.2.1&nbsp;&nbsp;</span>One person shares their screen</a></span></li><li><span><a href=\"#Each-Person\" data-toc-modified-id=\"Each-Person-2.2.2\"><span class=\"toc-item-num\">2.2.2&nbsp;&nbsp;</span>Each Person</a></span><ul class=\"toc-item\"><li><span><a href=\"#Make--a-change\" data-toc-modified-id=\"Make--a-change-2.2.2.1\"><span class=\"toc-item-num\">2.2.2.1&nbsp;&nbsp;</span>Make  a change</a></span></li><li><span><a href=\"#Looking-at-a-PR\" data-toc-modified-id=\"Looking-at-a-PR-2.2.2.2\"><span class=\"toc-item-num\">2.2.2.2&nbsp;&nbsp;</span>Looking at a PR</a></span></li></ul></li></ul></li></ul></li></ul></div>"
   ]
  },
  {
   "cell_type": "markdown",
   "metadata": {},
   "source": [
    "> Use this repo as a base: https://github.com/MrGeislinger/031521-colab-repo"
   ]
  },
  {
   "cell_type": "markdown",
   "metadata": {
    "heading_collapsed": true
   },
   "source": [
    "# Local Git"
   ]
  },
  {
   "cell_type": "markdown",
   "metadata": {
    "hidden": true
   },
   "source": [
    "1. Clone this repo locally\n",
    "2. Create a new branch `yourname` and switch to it\n",
    "3. Make a new file with your name as the name of the file: `victor.txt` (on your new branch)\n",
    "4. Commit this file change\n",
    "5. Switch to your main branch\n",
    "6. Make a new file called `main.txt`\n",
    "7. Commit this file\n",
    "8. Merge the changes from your branch"
   ]
  },
  {
   "cell_type": "markdown",
   "metadata": {},
   "source": [
    "# GitHub Collab"
   ]
  },
  {
   "cell_type": "markdown",
   "metadata": {},
   "source": [
    "## Intro - PR on Instructor's Repo"
   ]
  },
  {
   "cell_type": "markdown",
   "metadata": {},
   "source": [
    "1. Fork the test repo\n",
    "2. Clone this fork (locally)\n",
    "3. Add something to the `log.txt`\n",
    "4. Commit this change & push\n",
    "5. Make a pull request describing your change"
   ]
  },
  {
   "cell_type": "markdown",
   "metadata": {
    "heading_collapsed": true
   },
   "source": [
    "## Group PR"
   ]
  },
  {
   "cell_type": "markdown",
   "metadata": {
    "heading_collapsed": true,
    "hidden": true
   },
   "source": [
    "### One person shares their screen "
   ]
  },
  {
   "cell_type": "markdown",
   "metadata": {
    "hidden": true
   },
   "source": [
    "1. Create a new repo (just one person)\n",
    "    - Add a file in the initial step\n",
    "2. Add all members as collaborators (Under \"Manage access\" tab in repo settings"
   ]
  },
  {
   "cell_type": "markdown",
   "metadata": {
    "heading_collapsed": true,
    "hidden": true
   },
   "source": [
    "###  Each Person"
   ]
  },
  {
   "cell_type": "markdown",
   "metadata": {
    "heading_collapsed": true,
    "hidden": true
   },
   "source": [
    "#### Make  a change"
   ]
  },
  {
   "cell_type": "markdown",
   "metadata": {
    "hidden": true
   },
   "source": [
    "1. Clone group repo locally\n",
    "2. Checkout a new branch (using your name)\n",
    "3. Edit existing file\n",
    "4. Push your new branch to the repo on GitHub\n",
    "5. Make a pull request"
   ]
  },
  {
   "cell_type": "markdown",
   "metadata": {
    "heading_collapsed": true,
    "hidden": true
   },
   "source": [
    "#### Looking at a PR"
   ]
  },
  {
   "cell_type": "markdown",
   "metadata": {
    "hidden": true
   },
   "source": [
    "1. Make a comment on at least one PR\n",
    "2. Accept the changes\n",
    "3. Update your local repo to include the changes"
   ]
  },
  {
   "cell_type": "markdown",
   "metadata": {
    "hidden": true
   },
   "source": [
    ">Note, it's possible to have a [**merge conflict**](https://www.atlassian.com/git/tutorials/using-branches/merge-conflicts) at this point\n",
    ">\n",
    "> Call for help as needed! ☎️ "
   ]
  }
 ],
 "metadata": {
  "kernelspec": {
   "display_name": "learn-env",
   "language": "python",
   "name": "learn-env"
  },
  "language_info": {
   "codemirror_mode": {
    "name": "ipython",
    "version": 3
   },
   "file_extension": ".py",
   "mimetype": "text/x-python",
   "name": "python",
   "nbconvert_exporter": "python",
   "pygments_lexer": "ipython3",
   "version": "3.8.5"
  },
  "toc": {
   "base_numbering": 1,
   "nav_menu": {},
   "number_sections": true,
   "sideBar": true,
   "skip_h1_title": false,
   "title_cell": "Table of Contents",
   "title_sidebar": "TOC",
   "toc_cell": true,
   "toc_position": {
    "height": "calc(100% - 180px)",
    "left": "10px",
    "top": "150px",
    "width": "288px"
   },
   "toc_section_display": true,
   "toc_window_display": true
  }
 },
 "nbformat": 4,
 "nbformat_minor": 4
}
